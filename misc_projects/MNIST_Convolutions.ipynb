{
  "nbformat": 4,
  "nbformat_minor": 0,
  "metadata": {
    "colab": {
      "provenance": []
    },
    "kernelspec": {
      "name": "python3",
      "display_name": "Python 3"
    },
    "language_info": {
      "name": "python"
    },
    "gpuClass": "standard"
  },
  "cells": [
    {
      "cell_type": "markdown",
      "source": [
        "\n",
        "\n",
        "### Improving on the previous assessments by added convolutional layers to the neural network. \n",
        "The aim was to get the network to classify the Fashion MNIST dataset with an accuracy of >99.5% with only 1 convolutional layers and 1 pooling layer.\n"
      ],
      "metadata": {
        "id": "FFNUPywt819b"
      }
    },
    {
      "cell_type": "code",
      "source": [
        "import tensorflow as tf\n",
        "import numpy as np\n"
      ],
      "metadata": {
        "id": "7frIasoJ9beD"
      },
      "execution_count": null,
      "outputs": []
    },
    {
      "cell_type": "code",
      "source": [
        "# Load and define the Fashion MNIST dataset\n",
        "\n",
        "(training_images, training_labels), _ =  tf.keras.datasets.fashion_mnist.load_data()"
      ],
      "metadata": {
        "id": "0xhr2uTH-lqz"
      },
      "execution_count": null,
      "outputs": []
    },
    {
      "cell_type": "code",
      "source": [
        "# Test data shape\n",
        "training_images.shape, training_labels.shape\n"
      ],
      "metadata": {
        "colab": {
          "base_uri": "https://localhost:8080/"
        },
        "id": "Gt_mX477_J6g",
        "outputId": "0f033d72-0338-4e6b-cc1c-1535476ade30"
      },
      "execution_count": null,
      "outputs": [
        {
          "output_type": "execute_result",
          "data": {
            "text/plain": [
              "((60000, 28, 28), (60000,))"
            ]
          },
          "metadata": {},
          "execution_count": 3
        }
      ]
    },
    {
      "cell_type": "code",
      "source": [
        "def reshape_and_normalise(training_images):\n",
        "\n",
        "\n",
        "  # Reshape the data to add an extra dimension\n",
        "  training_images = training_images / 255.0\n",
        "\n",
        "  # convert to np array and reshape\n",
        "  training_images = np.reshape(np.array(training_images), (60000, 28, 28, 1))\n",
        "\n",
        "\n",
        "  return training_images\n"
      ],
      "metadata": {
        "id": "IKs8OKLJ-wDT"
      },
      "execution_count": null,
      "outputs": []
    },
    {
      "cell_type": "code",
      "source": [
        "images = reshape_and_normalise(training_images)\n",
        "\n",
        "print(f\"Maximum pixel value after normalization: {np.max(images)}\\n\")\n",
        "print(f\"Shape of training set after reshaping: {images.shape}\\n\")\n",
        "print(f\"Shape of one image after reshaping: {images[0].shape}\")"
      ],
      "metadata": {
        "colab": {
          "base_uri": "https://localhost:8080/"
        },
        "id": "ogwrSUZ1Ad9G",
        "outputId": "3585311a-d980-441f-9051-a09dfa7410d0"
      },
      "execution_count": null,
      "outputs": [
        {
          "output_type": "stream",
          "name": "stdout",
          "text": [
            "Maximum pixel value after normalization: 1.0\n",
            "\n",
            "Shape of training set after reshaping: (60000, 28, 28, 1)\n",
            "\n",
            "Shape of one image after reshaping: (28, 28, 1)\n"
          ]
        }
      ]
    },
    {
      "cell_type": "code",
      "source": [
        "class myCallBack(tf.keras.callbacks.Callback):\n",
        "  '''\n",
        "  A call back function that stops the training once a specified \n",
        "  accuracy has been met\n",
        "\n",
        "  attributes: None\n",
        "\n",
        "  methods: \n",
        "    on_epoch_end: A function that runs at the end of each epoch and compared the\n",
        "    accuracy with the desired accuracy level. If accuracy has been achieved the \n",
        "    training will be stopped.\n",
        "  '''\n",
        "\n",
        "  def on_epoch_end(self, epoch, logs=None):\n",
        "    \"\"\"\n",
        "    Callback function to be called at the end of each epoch.\n",
        "\n",
        "    This function checks the current loss value of the model and stops the training\n",
        "    if it is below a specified threshold. If the loss is below the threshold, the\n",
        "    function prints a message and sets the `stop_training` flag of the model to True.\n",
        "    Args:\n",
        "        epochs (int): The current epoch number.\n",
        "        logs (dict): A dictionary containing the training loss and metrics for the current epoch.\n",
        "    Returns:\n",
        "        None.\n",
        "    \"\"\"\n",
        "\n",
        "    if (logs.get(\"accuracy\") > 0.995):\n",
        "      # Accuracy Threshold has been met\n",
        "      print(\"\\n Accuracy Threshold has been met - Stopping training\")\n",
        "      self.model.stop_training = True\n",
        "\n",
        "\n",
        "# Instantiate the class\n",
        "callback = myCallBack()"
      ],
      "metadata": {
        "id": "SoSlqHwLBtCv"
      },
      "execution_count": null,
      "outputs": []
    },
    {
      "cell_type": "code",
      "source": [
        "# Define the model\n",
        "\n",
        "model = tf.keras.models.Sequential([tf.keras.layers.Conv2D(32, (3,3), activation = 'relu', input_shape = (28, 28, 1)),\n",
        "                                    tf.keras.layers.MaxPooling2D(2,2),\n",
        "                                    tf.keras.layers.Flatten(),\n",
        "                                    tf.keras.layers.Dense(128, activation = 'relu'),\n",
        "                                    #tf.keras.layers.Dense(256, activation = 'relu'),\n",
        "                                    tf.keras.layers.Dense(10, activation = 'softmax')])\n",
        "\n",
        "model.compile(optimizer = tf.keras.optimizers.Adam(),\n",
        "              loss = tf.keras.losses.SparseCategoricalCrossentropy(),\n",
        "              metrics = ['accuracy'])\n",
        "\n",
        "\n",
        "\n"
      ],
      "metadata": {
        "id": "bF-YLQSPDq_N"
      },
      "execution_count": null,
      "outputs": []
    },
    {
      "cell_type": "code",
      "source": [
        "history = model.fit(training_images, training_labels, epochs = 15, callbacks = [callback])"
      ],
      "metadata": {
        "colab": {
          "base_uri": "https://localhost:8080/"
        },
        "id": "kYW3PUWpFYeQ",
        "outputId": "97f265a8-807c-4f6f-bd42-8ff56e3d1412"
      },
      "execution_count": null,
      "outputs": [
        {
          "output_type": "stream",
          "name": "stdout",
          "text": [
            "Epoch 1/15\n",
            "1875/1875 [==============================] - 56s 29ms/step - loss: 0.8839 - accuracy: 0.8502\n",
            "Epoch 2/15\n",
            "1250/1875 [===================>..........] - ETA: 15s - loss: 0.2883 - accuracy: 0.8977"
          ]
        }
      ]
    },
    {
      "cell_type": "code",
      "execution_count": null,
      "metadata": {
        "id": "C2Fp6Se9rKuL"
      },
      "outputs": [],
      "source": [
        "import matplotlib.pyplot as plt\n",
        "acc = history.history['accuracy']\n",
        "loss = history.history['loss']\n",
        "epochs = range(len(acc))\n",
        "\n",
        "plt.plot(epochs, acc, 'r', label='Training accuracy')\n",
        "plt.title('Training accuracy')\n",
        "plt.legend(loc=0)\n",
        "plt.figure()\n",
        "\n",
        "\n",
        "\n",
        "plt.plot(epochs, loss, 'b', label='Training loss')\n",
        "plt.title('Training loss')\n",
        "plt.legend(loc=0)\n",
        "plt.figure()\n",
        "\n",
        "\n",
        "\n",
        "plt.show()"
      ]
    }
  ]
}