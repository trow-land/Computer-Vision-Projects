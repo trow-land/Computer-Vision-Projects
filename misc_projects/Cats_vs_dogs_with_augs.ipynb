{
  "nbformat": 4,
  "nbformat_minor": 0,
  "metadata": {
    "colab": {
      "provenance": []
    },
    "kernelspec": {
      "name": "python3",
      "display_name": "Python 3"
    },
    "language_info": {
      "name": "python"
    },
    "gpuClass": "standard",
    "accelerator": "GPU"
  },
  "cells": [
    {
      "cell_type": "markdown",
      "source": [
        "### Classifying the Cats v Dogs dataset with a CNN\n",
        "The training archive contains 25,000 images of dogs and cats. This notebook uses a simple convolutional neural network with data augmentations used the tf ImageDataGenerator to create a binary classifier."
      ],
      "metadata": {
        "id": "jg8Ai1epO_ek"
      }
    },
    {
      "cell_type": "code",
      "execution_count": null,
      "metadata": {
        "id": "KCF9EsneOzaT"
      },
      "outputs": [],
      "source": [
        "import os\n",
        "import zipfile\n",
        "import random\n",
        "import shutil\n",
        "import tensorflow as tf\n",
        "from tensorflow.keras.preprocessing.image import ImageDataGenerator\n",
        "from shutil import copyfile\n",
        "import matplotlib.pyplot as plt\n",
        "\n",
        "\n"
      ]
    },
    {
      "cell_type": "code",
      "source": [
        "# Download and extract the dataset\n",
        "\n",
        "!wget --no-check-certificate \\\n",
        "    \"https://download.microsoft.com/download/3/E/1/3E1C3F21-ECDB-4869-8368-6DEBA77B919F/kagglecatsanddogs_5340.zip\" \\\n",
        "    -O \"/tmp/cats-and-dogs.zip\"\n",
        "\n",
        "local_zip = '/tmp/cats-and-dogs.zip'\n",
        "zip_ref   = zipfile.ZipFile(local_zip, 'r')\n",
        "zip_ref.extractall('/tmp')\n",
        "zip_ref.close()"
      ],
      "metadata": {
        "colab": {
          "base_uri": "https://localhost:8080/"
        },
        "id": "dELhs-QgbQgy",
        "outputId": "215e2d50-ed3b-4e74-cdec-c1e1058d33ff"
      },
      "execution_count": null,
      "outputs": [
        {
          "output_type": "stream",
          "name": "stdout",
          "text": [
            "--2023-02-19 07:16:41--  https://download.microsoft.com/download/3/E/1/3E1C3F21-ECDB-4869-8368-6DEBA77B919F/kagglecatsanddogs_5340.zip\n",
            "Resolving download.microsoft.com (download.microsoft.com)... 23.2.72.163, 2600:1407:3c00:a86::317f, 2600:1407:3c00:a8f::317f\n",
            "Connecting to download.microsoft.com (download.microsoft.com)|23.2.72.163|:443... connected.\n",
            "HTTP request sent, awaiting response... 200 OK\n",
            "Length: 824887076 (787M) [application/octet-stream]\n",
            "Saving to: ‘/tmp/cats-and-dogs.zip’\n",
            "\n",
            "/tmp/cats-and-dogs. 100%[===================>] 786.67M   113MB/s    in 7.2s    \n",
            "\n",
            "2023-02-19 07:16:49 (109 MB/s) - ‘/tmp/cats-and-dogs.zip’ saved [824887076/824887076]\n",
            "\n"
          ]
        }
      ]
    },
    {
      "cell_type": "code",
      "source": [
        "# The datasets have been stored in tmp/PetImages\n",
        "\n",
        "source_path = '/tmp/PetImages'\n",
        "\n",
        "\n",
        "source_path_dogs = os.path.join(source_path, 'Dog')\n",
        "source_path_cats = os.path.join(source_path, 'Cat')\n",
        "\n",
        "# Delete the non-image files in the dataset\n",
        "!find /tmp/PetImages -type f ! -name \"*.jpg\" -exec rm {} +\n",
        "\n",
        "# Inspect the size of the dataset\n",
        "print(f\"There are {len(os.listdir(source_path_dogs))} dogs in the dataset\")\n",
        "print(f\"There are {len(os.listdir(source_path_cats))} cats in the dataset\")\n",
        "\n",
        "\n"
      ],
      "metadata": {
        "colab": {
          "base_uri": "https://localhost:8080/"
        },
        "id": "2j50-PdHbWKi",
        "outputId": "cebd1f3e-c763-468e-82f2-953ce1e76abc"
      },
      "execution_count": null,
      "outputs": [
        {
          "output_type": "stream",
          "name": "stdout",
          "text": [
            "There are 12500 dogs in the dataset\n",
            "There are 12500 cats in the dataset\n"
          ]
        }
      ]
    },
    {
      "cell_type": "code",
      "source": [
        "# Create the training and validation datasets\n",
        "\n",
        "root_dir = '/tmp/cats-v-dogs'\n",
        "\n",
        "# Empty directory to prevent FileExistsError is the function is run several times\n",
        "if os.path.exists(root_dir):\n",
        "  shutil.rmtree(root_dir)\n",
        "\n",
        "def create_train_val_dirs(root_path):\n",
        "  '''\n",
        "  Creates the directories in which the training and validation images will be placed in\n",
        "\n",
        "  args: root_path -> the root of the source directory that all images are currently in\n",
        "  '''\n",
        "  \n",
        "\n",
        "  # Make the paths to the directories\n",
        "  train_dir = os.path.join(root_path, \"training\")\n",
        "  validation_dir =os.path.join(root_path, \"validation\")\n",
        "\n",
        "  train_cats_dir = os.path.join(train_dir, 'cats')\n",
        "  train_dogs_dir = os.path.join(train_dir, 'dogs')\n",
        "\n",
        "  val_cats_dir = os.path.join(validation_dir, 'cats')\n",
        "  val_dogs_dir = os.path.join(validation_dir, 'dogs') \n",
        "\n",
        "\n",
        "  # Create the directories\n",
        "  os.makedirs(train_cats_dir)\n",
        "  os.makedirs(train_dogs_dir)\n",
        "  os.makedirs(val_cats_dir)\n",
        "  os.makedirs(val_dogs_dir)\n",
        "\n",
        "try:\n",
        "  create_train_val_dirs(root_path=root_dir)\n",
        "except FileExistsError:\n",
        "  print(\"You should not be seeing this since the upper directory is removed beforehand\")\n"
      ],
      "metadata": {
        "id": "iDSatqGtcmeT"
      },
      "execution_count": null,
      "outputs": []
    },
    {
      "cell_type": "code",
      "source": [
        "# Test the create_train_val_dirs function\n",
        "\n",
        "for rootdir, dirs, files in os.walk(root_dir):\n",
        "    for subdir in dirs:\n",
        "        print(os.path.join(rootdir, subdir))"
      ],
      "metadata": {
        "colab": {
          "base_uri": "https://localhost:8080/"
        },
        "id": "b8KDyVJrOKdg",
        "outputId": "5c5fcc79-f4c5-45c6-e887-7e0c99239191"
      },
      "execution_count": null,
      "outputs": [
        {
          "output_type": "stream",
          "name": "stdout",
          "text": [
            "/tmp/cats-v-dogs/training\n",
            "/tmp/cats-v-dogs/validation\n",
            "/tmp/cats-v-dogs/training/dogs\n",
            "/tmp/cats-v-dogs/training/cats\n",
            "/tmp/cats-v-dogs/validation/dogs\n",
            "/tmp/cats-v-dogs/validation/cats\n"
          ]
        }
      ]
    },
    {
      "cell_type": "code",
      "source": [
        "# Make a function to split the data into training and validation\n",
        "\n",
        "def split_data(source_dir, training_dir, validation_dir,  split_size):\n",
        "  \"\"\"\n",
        "  Split the data from the source directory into training and validation directories with a specified split size.\n",
        "    \n",
        "  Args:\n",
        "  - source_dir (str): the path of the directory containing the source data\n",
        "  - validation_dir (str): the path of the directory to save the validation data\n",
        "  - training_dir (str): the path of the directory to save the training data\n",
        "  - split_size (float): the percentage of data to use for validation\n",
        "    \n",
        "  Returns:\n",
        "  - None\n",
        "    \n",
        "  Raises:\n",
        "  - ValueError: if the split size is not between 0 and 1\n",
        "    \n",
        "  \"\"\"\n",
        "\n",
        "  # create empty lists for the training and validation\n",
        "\n",
        "  split_element = int(len(os.listdir(source_dir)) * split_size)\n",
        "  print(split_element)\n",
        "\n",
        "  training = []\n",
        "  validation = []\n",
        "\n",
        "  source_list = os.listdir(source_dir)\n",
        "  source_list = random.sample(source_list, len(source_list))\n",
        "\n",
        "  count = 0\n",
        "\n",
        "  for filename in os.listdir(source_dir):\n",
        "    if os.path.getsize(os.path.join(source_dir, filename)) != 0:\n",
        "      if count < split_element:\n",
        "        training.append(filename)\n",
        "        count += 1\n",
        "      else:\n",
        "        validation.append(filename)\n",
        "        count += 1\n",
        "      \n",
        "  for filename in training:\n",
        "    original_file = os.path.join(source_dir, filename)\n",
        "    destination = os.path.join(training_dir, filename)\n",
        "    copyfile(original_file, destination)\n",
        "\n",
        "  for filename in validation:\n",
        "    original_file = os.path.join(source_dir, filename)\n",
        "    destination = os.path.join(validation_dir, filename)\n",
        "    copyfile(original_file, destination)\n",
        "\n",
        "\n",
        "\n",
        "  "
      ],
      "metadata": {
        "id": "CJSWaj10Oghm"
      },
      "execution_count": null,
      "outputs": []
    },
    {
      "cell_type": "code",
      "execution_count": null,
      "metadata": {
        "id": "FlIdoUeX9S-9",
        "tags": [
          "graded"
        ],
        "colab": {
          "base_uri": "https://localhost:8080/"
        },
        "outputId": "31ba1eee-aa0d-4ce0-adac-b71cd8301b24"
      },
      "outputs": [
        {
          "output_type": "stream",
          "name": "stdout",
          "text": [
            "11250\n",
            "11250\n",
            "\n",
            "\n",
            "Original cat's directory has 12500 images\n",
            "Original dog's directory has 12500 images\n",
            "\n",
            "There are 11250 images of cats for training\n",
            "There are 11250 images of dogs for training\n",
            "There are 1249 images of cats for validation\n",
            "There are 1249 images of dogs for validation\n"
          ]
        }
      ],
      "source": [
        "# Test the split_data function\n",
        "\n",
        "# Define paths\n",
        "CAT_SOURCE_DIR = \"/tmp/PetImages/Cat/\"\n",
        "DOG_SOURCE_DIR = \"/tmp/PetImages/Dog/\"\n",
        "\n",
        "TRAINING_DIR = \"/tmp/cats-v-dogs/training/\"\n",
        "VALIDATION_DIR = \"/tmp/cats-v-dogs/validation/\"\n",
        "\n",
        "TRAINING_CATS_DIR = os.path.join(TRAINING_DIR, \"cats/\")\n",
        "VALIDATION_CATS_DIR = os.path.join(VALIDATION_DIR, \"cats/\")\n",
        "\n",
        "TRAINING_DOGS_DIR = os.path.join(TRAINING_DIR, \"dogs/\")\n",
        "VALIDATION_DOGS_DIR = os.path.join(VALIDATION_DIR, \"dogs/\")\n",
        "\n",
        "# Empty directories in case you run this cell multiple times\n",
        "if len(os.listdir(TRAINING_CATS_DIR)) > 0:\n",
        "  for file in os.scandir(TRAINING_CATS_DIR):\n",
        "    os.remove(file.path)\n",
        "if len(os.listdir(TRAINING_DOGS_DIR)) > 0:\n",
        "  for file in os.scandir(TRAINING_DOGS_DIR):\n",
        "    os.remove(file.path)\n",
        "if len(os.listdir(VALIDATION_CATS_DIR)) > 0:\n",
        "  for file in os.scandir(VALIDATION_CATS_DIR):\n",
        "    os.remove(file.path)\n",
        "if len(os.listdir(VALIDATION_DOGS_DIR)) > 0:\n",
        "  for file in os.scandir(VALIDATION_DOGS_DIR):\n",
        "    os.remove(file.path)\n",
        "\n",
        "# Define proportion of images used for training\n",
        "split_size = .9\n",
        "\n",
        "# Run the function\n",
        "# NOTE: Messages about zero length images should be printed out\n",
        "split_data(CAT_SOURCE_DIR, TRAINING_CATS_DIR, VALIDATION_CATS_DIR, split_size)\n",
        "split_data(DOG_SOURCE_DIR, TRAINING_DOGS_DIR, VALIDATION_DOGS_DIR, split_size)\n",
        "\n",
        "#split_data(CAT_SOURCE_DIR, TRAINING_CATS_DIR, VALIDATION_CATS_DIR, split_size)\n",
        "#split_data(DOG_SOURCE_DIR, TRAINING_DOGS_DIR, VALIDATION_DOGS_DIR, split_size)\n",
        "\n",
        "# Check that the number of images matches the expected output\n",
        "\n",
        "# Your function should perform copies rather than moving images so original directories should contain unchanged images\n",
        "print(f\"\\n\\nOriginal cat's directory has {len(os.listdir(CAT_SOURCE_DIR))} images\")\n",
        "print(f\"Original dog's directory has {len(os.listdir(DOG_SOURCE_DIR))} images\\n\")\n",
        "\n",
        "# Training and validation splits\n",
        "print(f\"There are {len(os.listdir(TRAINING_CATS_DIR))} images of cats for training\")\n",
        "print(f\"There are {len(os.listdir(TRAINING_DOGS_DIR))} images of dogs for training\")\n",
        "print(f\"There are {len(os.listdir(VALIDATION_CATS_DIR))} images of cats for validation\")\n",
        "print(f\"There are {len(os.listdir(VALIDATION_DOGS_DIR))} images of dogs for validation\")"
      ]
    },
    {
      "cell_type": "code",
      "source": [
        "class myCallback(tf.keras.callbacks.Callback):\n",
        "  def on_epoch_end(self, epochs, logs = {}):\n",
        "\n",
        "    if (logs.get('accuracy') > 0.95 and logs.get(\"val_accuracy\") > 0.95):\n",
        "      # Accurcy acceptable\n",
        "      self.model.stop_training = True\n",
        "      print(\"\\n Training stopping - Accuracy theshold met!\")\n",
        "\n",
        "callback = myCallback()"
      ],
      "metadata": {
        "id": "dPDFbau7xjBV"
      },
      "execution_count": null,
      "outputs": []
    },
    {
      "cell_type": "code",
      "source": [
        "def train_val_generators(training_dir, validation_dir):\n",
        "\n",
        "\n",
        "  train_datagen = ImageDataGenerator(rescale = 1.0/255.0,\n",
        "                                     horizontal_flip = True,\n",
        "                                     width_shift_range = 0.2,\n",
        "                                     height_shift_range = 0.2,\n",
        "                                     zoom_range = 0.2,\n",
        "                                     shear_range = 0.2,\n",
        "                                     rotation_range = 40,\n",
        "                                     fill_mode = 'nearest')\n",
        "  \n",
        "  validation_datagen = ImageDataGenerator(rescale = 1.0/255.0)\n",
        "\n",
        "\n",
        "  train_generator = train_datagen.flow_from_directory(directory = training_dir, # This is the source directory for training images\n",
        "                                                      target_size = (150, 150), # Images will be resized to 150*150\n",
        "                                                      batch_size = 20,\n",
        "                                                      class_mode = 'binary')    # becaause we are using binary_crossentropy, we need binary labels                                              \n",
        "\n",
        "  \n",
        "  validation_generator = validation_datagen.flow_from_directory(directory = validation_dir,\n",
        "                                                                target_size = (150, 150),\n",
        "                                                                batch_size = 20,\n",
        "                                                                class_mode = 'binary')\n",
        "  \n",
        "  return train_generator, validation_generator\n"
      ],
      "metadata": {
        "id": "jr_zMBGinL7S"
      },
      "execution_count": null,
      "outputs": []
    },
    {
      "cell_type": "code",
      "source": [
        "\n",
        "# Test your generators\n",
        "train_generator, validation_generator = train_val_generators(TRAINING_DIR, VALIDATION_DIR)"
      ],
      "metadata": {
        "colab": {
          "base_uri": "https://localhost:8080/"
        },
        "id": "ct6TGK2rrGC4",
        "outputId": "9d2f2df5-c49f-4ee2-a9ad-8bd16ab1ea87"
      },
      "execution_count": null,
      "outputs": [
        {
          "output_type": "stream",
          "name": "stdout",
          "text": [
            "Found 22500 images belonging to 2 classes.\n",
            "Found 2498 images belonging to 2 classes.\n"
          ]
        }
      ]
    },
    {
      "cell_type": "code",
      "source": [
        "# Define model\n",
        "\n",
        "def create_model():\n",
        "  \n",
        "  model = tf.keras.models.Sequential([tf.keras.layers.Conv2D(16, (3,3), activation = 'relu', input_shape = (150, 150, 3)),\n",
        "                              tf.keras.layers.MaxPool2D(2,2),\n",
        "                              tf.keras.layers.Conv2D(32,(3,3), activation = 'relu' ),\n",
        "                              tf.keras.layers.MaxPool2D((2,2)),\n",
        "                              tf.keras.layers.Conv2D(64,(3,3), activation = 'relu' ),\n",
        "                              tf.keras.layers.MaxPool2D((2,2)),\n",
        "                              tf.keras.layers.Flatten(),\n",
        "                              tf.keras.layers.Dense(256, activation = 'relu'),\n",
        "                              tf.keras.layers.Dropout(0.2),\n",
        "                              tf.keras.layers.Dense(1, activation = 'sigmoid')\n",
        "      \n",
        "  ])\n",
        "\n",
        "\n",
        "  model.compile(optimizer = tf.keras.optimizers.Adam(learning_rate=0.001),  # Adam optimizer performs better than the RMSprop\n",
        "                #optimizer = tf.keras.optimizers.RMSprop(learning_rate=1e-4),\n",
        "                loss = tf.keras.losses.BinaryCrossentropy(),\n",
        "                metrics = ['accuracy'])\n",
        "  \n",
        "  print(model.optimizer)\n",
        "  print(model.loss)\n",
        "  print(model.metrics_names)\n",
        "  \n",
        "  return model"
      ],
      "metadata": {
        "id": "OTLxwj81r_Ra"
      },
      "execution_count": null,
      "outputs": []
    },
    {
      "cell_type": "code",
      "source": [
        "model = create_model()\n",
        "\n",
        "model.summary()\n",
        "\n",
        "history = model.fit(train_generator,\n",
        "                    epochs = 15,\n",
        "                    verbose = 1,\n",
        "                    validation_data = validation_generator,\n",
        "                    callbacks = [callback])"
      ],
      "metadata": {
        "colab": {
          "base_uri": "https://localhost:8080/"
        },
        "id": "x0cMRbGbttRC",
        "outputId": "b162a1cb-e715-456b-d4b6-272347b3d2f6"
      },
      "execution_count": null,
      "outputs": [
        {
          "metadata": {
            "tags": null
          },
          "name": "stdout",
          "output_type": "stream",
          "text": [
            "<keras.optimizers.optimizer_experimental.adam.Adam object at 0x7f6192f66d60>\n",
            "<keras.losses.BinaryCrossentropy object at 0x7f6192aaac10>\n",
            "[]\n",
            "Model: \"sequential\"\n",
            "_________________________________________________________________\n",
            " Layer (type)                Output Shape              Param #   \n",
            "=================================================================\n",
            " conv2d (Conv2D)             (None, 148, 148, 16)      448       \n",
            "                                                                 \n",
            " max_pooling2d (MaxPooling2D  (None, 74, 74, 16)       0         \n",
            " )                                                               \n",
            "                                                                 \n",
            " conv2d_1 (Conv2D)           (None, 72, 72, 32)        4640      \n",
            "                                                                 \n",
            " max_pooling2d_1 (MaxPooling  (None, 36, 36, 32)       0         \n",
            " 2D)                                                             \n",
            "                                                                 \n",
            " conv2d_2 (Conv2D)           (None, 34, 34, 64)        18496     \n",
            "                                                                 \n",
            " max_pooling2d_2 (MaxPooling  (None, 17, 17, 64)       0         \n",
            " 2D)                                                             \n",
            "                                                                 \n",
            " flatten (Flatten)           (None, 18496)             0         \n",
            "                                                                 \n",
            " dense (Dense)               (None, 256)               4735232   \n",
            "                                                                 \n",
            " dropout (Dropout)           (None, 256)               0         \n",
            "                                                                 \n",
            " dense_1 (Dense)             (None, 1)                 257       \n",
            "                                                                 \n",
            "=================================================================\n",
            "Total params: 4,759,073\n",
            "Trainable params: 4,759,073\n",
            "Non-trainable params: 0\n",
            "_________________________________________________________________\n",
            "Epoch 1/15\n",
            " 721/1125 [==================>...........] - ETA: 1:03 - loss: 0.6812 - accuracy: 0.5601"
          ]
        },
        {
          "metadata": {
            "tags": null
          },
          "name": "stderr",
          "output_type": "stream",
          "text": [
            "/usr/local/lib/python3.8/dist-packages/PIL/TiffImagePlugin.py:767: UserWarning: Possibly corrupt EXIF data.  Expecting to read 32 bytes but only got 0. Skipping tag 270\n",
            "  warnings.warn(\n",
            "/usr/local/lib/python3.8/dist-packages/PIL/TiffImagePlugin.py:767: UserWarning: Possibly corrupt EXIF data.  Expecting to read 5 bytes but only got 0. Skipping tag 271\n",
            "  warnings.warn(\n",
            "/usr/local/lib/python3.8/dist-packages/PIL/TiffImagePlugin.py:767: UserWarning: Possibly corrupt EXIF data.  Expecting to read 8 bytes but only got 0. Skipping tag 272\n",
            "  warnings.warn(\n",
            "/usr/local/lib/python3.8/dist-packages/PIL/TiffImagePlugin.py:767: UserWarning: Possibly corrupt EXIF data.  Expecting to read 8 bytes but only got 0. Skipping tag 282\n",
            "  warnings.warn(\n",
            "/usr/local/lib/python3.8/dist-packages/PIL/TiffImagePlugin.py:767: UserWarning: Possibly corrupt EXIF data.  Expecting to read 8 bytes but only got 0. Skipping tag 283\n",
            "  warnings.warn(\n",
            "/usr/local/lib/python3.8/dist-packages/PIL/TiffImagePlugin.py:767: UserWarning: Possibly corrupt EXIF data.  Expecting to read 20 bytes but only got 0. Skipping tag 306\n",
            "  warnings.warn(\n",
            "/usr/local/lib/python3.8/dist-packages/PIL/TiffImagePlugin.py:767: UserWarning: Possibly corrupt EXIF data.  Expecting to read 48 bytes but only got 0. Skipping tag 532\n",
            "  warnings.warn(\n",
            "/usr/local/lib/python3.8/dist-packages/PIL/TiffImagePlugin.py:788: UserWarning: Corrupt EXIF data.  Expecting to read 2 bytes but only got 0. \n",
            "  warnings.warn(str(msg))\n"
          ]
        },
        {
          "output_type": "stream",
          "name": "stdout",
          "text": [
            "1125/1125 [==============================] - 196s 164ms/step - loss: 0.6690 - accuracy: 0.5803 - val_loss: 0.6425 - val_accuracy: 0.6621\n",
            "Epoch 2/15\n",
            "1125/1125 [==============================] - 183s 163ms/step - loss: 0.6014 - accuracy: 0.6757 - val_loss: 0.5279 - val_accuracy: 0.7414\n",
            "Epoch 3/15\n",
            "1125/1125 [==============================] - 183s 162ms/step - loss: 0.5638 - accuracy: 0.7083 - val_loss: 0.4870 - val_accuracy: 0.7658\n",
            "Epoch 4/15\n",
            "1125/1125 [==============================] - 180s 160ms/step - loss: 0.5351 - accuracy: 0.7297 - val_loss: 0.4607 - val_accuracy: 0.7806\n",
            "Epoch 5/15\n",
            "1125/1125 [==============================] - 180s 160ms/step - loss: 0.5253 - accuracy: 0.7408 - val_loss: 0.4600 - val_accuracy: 0.7818\n",
            "Epoch 6/15\n",
            "1125/1125 [==============================] - 179s 159ms/step - loss: 0.5025 - accuracy: 0.7566 - val_loss: 0.4541 - val_accuracy: 0.7846\n",
            "Epoch 7/15\n",
            "1125/1125 [==============================] - 179s 159ms/step - loss: 0.4959 - accuracy: 0.7582 - val_loss: 0.4363 - val_accuracy: 0.7946\n",
            "Epoch 8/15\n",
            "1125/1125 [==============================] - 180s 160ms/step - loss: 0.4782 - accuracy: 0.7716 - val_loss: 0.4653 - val_accuracy: 0.7886\n",
            "Epoch 9/15\n",
            "1125/1125 [==============================] - 179s 159ms/step - loss: 0.4669 - accuracy: 0.7788 - val_loss: 0.4289 - val_accuracy: 0.7958\n",
            "Epoch 10/15\n",
            "1125/1125 [==============================] - 179s 159ms/step - loss: 0.4568 - accuracy: 0.7856 - val_loss: 0.3754 - val_accuracy: 0.8347\n",
            "Epoch 11/15\n",
            "1125/1125 [==============================] - 180s 160ms/step - loss: 0.4462 - accuracy: 0.7907 - val_loss: 0.4188 - val_accuracy: 0.8034\n",
            "Epoch 12/15\n",
            "1125/1125 [==============================] - 180s 160ms/step - loss: 0.4342 - accuracy: 0.8007 - val_loss: 0.3590 - val_accuracy: 0.8351\n",
            "Epoch 13/15\n",
            "1125/1125 [==============================] - 180s 160ms/step - loss: 0.4273 - accuracy: 0.8058 - val_loss: 0.3627 - val_accuracy: 0.8463\n",
            "Epoch 14/15\n",
            "1125/1125 [==============================] - 180s 160ms/step - loss: 0.4189 - accuracy: 0.8104 - val_loss: 0.3600 - val_accuracy: 0.8375\n",
            "Epoch 15/15\n",
            "1125/1125 [==============================] - 180s 160ms/step - loss: 0.4097 - accuracy: 0.8132 - val_loss: 0.3497 - val_accuracy: 0.8439\n"
          ]
        }
      ]
    },
    {
      "cell_type": "markdown",
      "source": [
        "| Experiment | Optimizer | Learning Rate | Num Conv Layers | Dropout layers & vales| Num Filters | Num Dense Units | Batch Size | Num Epochs | Train Accuracy | Val Accuracy | Extra Details\n",
        "|-|-|-|-|-|-|-|-|-|-| - |-|\n",
        "| 1 | adam |0.001 | 1 | n/a| 128 | 64 | 20 | 15 | 0.6469 | 0.6485 | |\n",
        "| 2 | rmsProp | 0.0001 | 1 |n/a| 128 | 64 | 20 | 15 | 0.4856 | 0.5000 | Not learning, stopped early|\n",
        "|3|rmsprop|0.0001|1|1(0.5)|128|64|20|15|0.5| 0.5 |Not learning, stopping early|\n",
        "|4|Adam|0.001|1|1(0.2)|128|64|20|15|0.6337| 0.6812 |-|\n",
        "|5|Adam|0.001|2|1(0.2)|128, 256|64|20|15|0.6349| 0.6467 |-|\n",
        "|6|Adam|0.01|1|1(0.2)|128|64|20|15|0.5|0.5|Stopped early - not learning|\n",
        "|6|Adam|0.001|1|1(0.2)|128|256|20|15|0.6477| 0.6404 |-|\n",
        "|7|Adam|0.001|1|1(0.2)|16|256|20|15|0.6561| 0.6889 |-|\n",
        "|8|Adam|0.001|2|1(0.2)|16, 32|256|20|15|0.7098| 0.7346 |-|\n",
        "|9|rmsprop|0.0001|2|1(0.2)|16, 32|256|20|15|0.6245| 0.6572 |-|\n",
        "|10|Adam|0.001|3|1(0.2)|16, 32, 64|256|20|15|0.6974| 0.7076 |-|\n",
        "|11|Adam|0.001|3|1(0.2)|16, 32, 64|512|20|15|0.7074| 0.7181|-|\n",
        "|12|Adam|0.001|2|1(0.2)|16, 32|256|50|15|0.7010| 0.685 |I have just realised the training and val datasets were back switched! Lesson learnt!|\n",
        "|13|Adam|0.001|2|1(0.2)|16, 32|256|20|15|0.7755| 0.8006 |-|\n",
        "|14|Adam|0.001|3|1(0.2)|16, 32, 64|256|20|15|0.8132| 0.8439 |-|\n",
        "\n"
      ],
      "metadata": {
        "id": "nqyFx0asaCax"
      }
    },
    {
      "cell_type": "code",
      "execution_count": null,
      "metadata": {
        "id": "MWZrJN4-65RC",
        "tags": [],
        "colab": {
          "base_uri": "https://localhost:8080/",
          "height": 547
        },
        "outputId": "f01acdf4-3ee6-4551-8bae-bf66c5dc0e9a"
      },
      "outputs": [
        {
          "output_type": "display_data",
          "data": {
            "text/plain": [
              "<Figure size 432x288 with 1 Axes>"
            ],
            "image/png": "[encoded data removed]"
          },
          "metadata": {
            "needs_background": "light"
          }
        },
        {
          "output_type": "stream",
          "name": "stdout",
          "text": [
            "\n"
          ]
        },
        {
          "output_type": "display_data",
          "data": {
            "text/plain": [
              "<Figure size 432x288 with 1 Axes>"
            ],
            "image/png": "[encoded data removed]"
          },
          "metadata": {
            "needs_background": "light"
          }
        }
      ],
      "source": [
        "#-----------------------------------------------------------\n",
        "# Retrieve a list of list results on training and test data\n",
        "# sets for each training epoch\n",
        "#-----------------------------------------------------------\n",
        "acc=history.history['accuracy']\n",
        "val_acc=history.history['val_accuracy']\n",
        "loss=history.history['loss']\n",
        "val_loss=history.history['val_loss']\n",
        "\n",
        "epochs=range(len(acc)) # Get number of epochs\n",
        "\n",
        "#------------------------------------------------\n",
        "# Plot training and validation accuracy per epoch\n",
        "#------------------------------------------------\n",
        "plt.plot(epochs, acc, 'r', \"Training Accuracy\")\n",
        "plt.plot(epochs, val_acc, 'b', \"Validation Accuracy\")\n",
        "plt.title('Training and validation accuracy')\n",
        "plt.show()\n",
        "print(\"\")\n",
        "\n",
        "#------------------------------------------------\n",
        "# Plot training and validation loss per epoch\n",
        "#------------------------------------------------\n",
        "plt.plot(epochs, loss, 'r', \"Training Loss\")\n",
        "plt.plot(epochs, val_loss, 'b', \"Validation Loss\")\n",
        "plt.show()"
      ]
    },
    {
      "cell_type": "code",
      "source": [
        "# Code to test the network by uploading images\n",
        "import numpy as np\n",
        "from google.colab import files\n",
        "from keras.preprocessing import image\n",
        "\n",
        "uploaded = files.upload()\n",
        "\n",
        "for fn in uploaded.keys():\n",
        " \n",
        "  # predicting images\n",
        "  path = '/content/' + fn\n",
        "  img = tf.keras.utils.load_img(path, target_size=(150, 150))\n",
        "  x = tf.keras.preprocessing.image.img_to_array(img)\n",
        "  x = np.expand_dims(x, axis=0)\n",
        "\n",
        "  images = np.vstack([x])\n",
        "  classes = model.predict(images, batch_size=10)\n",
        "  print(classes[0])\n",
        "  if classes[0]>0.5:\n",
        "    print(fn + \" is a dog\")\n",
        "  else:\n",
        "    print(fn + \" is a cat\")"
      ],
      "metadata": {
        "id": "lcQqPaLXdwxe",
        "colab": {
          "base_uri": "https://localhost:8080/",
          "height": 37
        },
        "outputId": "b9568e41-6594-47f7-de93-2d3165fa3717"
      },
      "execution_count": null,
      "outputs": [
        {
          "output_type": "display_data",
          "data": {
            "text/plain": [
              "<IPython.core.display.HTML object>"
            ],
            "text/html": [
              "\n",
              "     <input type=\"file\" id=\"files-107423f1-4ec0-4e32-a5d6-02f9c4e9586a\" name=\"files[]\" multiple disabled\n",
              "        style=\"border:none\" />\n",
              "     <output id=\"result-107423f1-4ec0-4e32-a5d6-02f9c4e9586a\">\n",
              "      Upload widget is only available when the cell has been executed in the\n",
              "      current browser session. Please rerun this cell to enable.\n",
              "      </output>\n",
              "      <script>// Copyright 2017 Google LLC\n",
              "//\n",
              "// Licensed under the Apache License, Version 2.0 (the \"License\");\n",
              "// you may not use this file except in compliance with the License.\n",
              "// You may obtain a copy of the License at\n",
              "//\n",
              "//      http://www.apache.org/licenses/LICENSE-2.0\n",
              "//\n",
              "// Unless required by applicable law or agreed to in writing, software\n",
              "// distributed under the License is distributed on an \"AS IS\" BASIS,\n",
              "// WITHOUT WARRANTIES OR CONDITIONS OF ANY KIND, either express or implied.\n",
              "// See the License for the specific language governing permissions and\n",
              "// limitations under the License.\n",
              "\n",
              "/**\n",
              " * @fileoverview Helpers for google.colab Python module.\n",
              " */\n",
              "(function(scope) {\n",
              "function span(text, styleAttributes = {}) {\n",
              "  const element = document.createElement('span');\n",
              "  element.textContent = text;\n",
              "  for (const key of Object.keys(styleAttributes)) {\n",
              "    element.style[key] = styleAttributes[key];\n",
              "  }\n",
              "  return element;\n",
              "}\n",
              "\n",
              "// Max number of bytes which will be uploaded at a time.\n",
              "const MAX_PAYLOAD_SIZE = 100 * 1024;\n",
              "\n",
              "function _uploadFiles(inputId, outputId) {\n",
              "  const steps = uploadFilesStep(inputId, outputId);\n",
              "  const outputElement = document.getElementById(outputId);\n",
              "  // Cache steps on the outputElement to make it available for the next call\n",
              "  // to uploadFilesContinue from Python.\n",
              "  outputElement.steps = steps;\n",
              "\n",
              "  return _uploadFilesContinue(outputId);\n",
              "}\n",
              "\n",
              "// This is roughly an async generator (not supported in the browser yet),\n",
              "// where there are multiple asynchronous steps and the Python side is going\n",
              "// to poll for completion of each step.\n",
              "// This uses a Promise to block the python side on completion of each step,\n",
              "// then passes the result of the previous step as the input to the next step.\n",
              "function _uploadFilesContinue(outputId) {\n",
              "  const outputElement = document.getElementById(outputId);\n",
              "  const steps = outputElement.steps;\n",
              "\n",
              "  const next = steps.next(outputElement.lastPromiseValue);\n",
              "  return Promise.resolve(next.value.promise).then((value) => {\n",
              "    // Cache the last promise value to make it available to the next\n",
              "    // step of the generator.\n",
              "    outputElement.lastPromiseValue = value;\n",
              "    return next.value.response;\n",
              "  });\n",
              "}\n",
              "\n",
              "/**\n",
              " * Generator function which is called between each async step of the upload\n",
              " * process.\n",
              " * @param {string} inputId Element ID of the input file picker element.\n",
              " * @param {string} outputId Element ID of the output display.\n",
              " * @return {!Iterable<!Object>} Iterable of next steps.\n",
              " */\n",
              "function* uploadFilesStep(inputId, outputId) {\n",
              "  const inputElement = document.getElementById(inputId);\n",
              "  inputElement.disabled = false;\n",
              "\n",
              "  const outputElement = document.getElementById(outputId);\n",
              "  outputElement.innerHTML = '';\n",
              "\n",
              "  const pickedPromise = new Promise((resolve) => {\n",
              "    inputElement.addEventListener('change', (e) => {\n",
              "      resolve(e.target.files);\n",
              "    });\n",
              "  });\n",
              "\n",
              "  const cancel = document.createElement('button');\n",
              "  inputElement.parentElement.appendChild(cancel);\n",
              "  cancel.textContent = 'Cancel upload';\n",
              "  const cancelPromise = new Promise((resolve) => {\n",
              "    cancel.onclick = () => {\n",
              "      resolve(null);\n",
              "    };\n",
              "  });\n",
              "\n",
              "  // Wait for the user to pick the files.\n",
              "  const files = yield {\n",
              "    promise: Promise.race([pickedPromise, cancelPromise]),\n",
              "    response: {\n",
              "      action: 'starting',\n",
              "    }\n",
              "  };\n",
              "\n",
              "  cancel.remove();\n",
              "\n",
              "  // Disable the input element since further picks are not allowed.\n",
              "  inputElement.disabled = true;\n",
              "\n",
              "  if (!files) {\n",
              "    return {\n",
              "      response: {\n",
              "        action: 'complete',\n",
              "      }\n",
              "    };\n",
              "  }\n",
              "\n",
              "  for (const file of files) {\n",
              "    const li = document.createElement('li');\n",
              "    li.append(span(file.name, {fontWeight: 'bold'}));\n",
              "    li.append(span(\n",
              "        `(${file.type || 'n/a'}) - ${file.size} bytes, ` +\n",
              "        `last modified: ${\n",
              "            file.lastModifiedDate ? file.lastModifiedDate.toLocaleDateString() :\n",
              "                                    'n/a'} - `));\n",
              "    const percent = span('0% done');\n",
              "    li.appendChild(percent);\n",
              "\n",
              "    outputElement.appendChild(li);\n",
              "\n",
              "    const fileDataPromise = new Promise((resolve) => {\n",
              "      const reader = new FileReader();\n",
              "      reader.onload = (e) => {\n",
              "        resolve(e.target.result);\n",
              "      };\n",
              "      reader.readAsArrayBuffer(file);\n",
              "    });\n",
              "    // Wait for the data to be ready.\n",
              "    let fileData = yield {\n",
              "      promise: fileDataPromise,\n",
              "      response: {\n",
              "        action: 'continue',\n",
              "      }\n",
              "    };\n",
              "\n",
              "    // Use a chunked sending to avoid message size limits. See b/62115660.\n",
              "    let position = 0;\n",
              "    do {\n",
              "      const length = Math.min(fileData.byteLength - position, MAX_PAYLOAD_SIZE);\n",
              "      const chunk = new Uint8Array(fileData, position, length);\n",
              "      position += length;\n",
              "\n",
              "      const base64 = btoa(String.fromCharCode.apply(null, chunk));\n",
              "      yield {\n",
              "        response: {\n",
              "          action: 'append',\n",
              "          file: file.name,\n",
              "          data: base64,\n",
              "        },\n",
              "      };\n",
              "\n",
              "      let percentDone = fileData.byteLength === 0 ?\n",
              "          100 :\n",
              "          Math.round((position / fileData.byteLength) * 100);\n",
              "      percent.textContent = `${percentDone}% done`;\n",
              "\n",
              "    } while (position < fileData.byteLength);\n",
              "  }\n",
              "\n",
              "  // All done.\n",
              "  yield {\n",
              "    response: {\n",
              "      action: 'complete',\n",
              "    }\n",
              "  };\n",
              "}\n",
              "\n",
              "scope.google = scope.google || {};\n",
              "scope.google.colab = scope.google.colab || {};\n",
              "scope.google.colab._files = {\n",
              "  _uploadFiles,\n",
              "  _uploadFilesContinue,\n",
              "};\n",
              "})(self);\n",
              "</script> "
            ]
          },
          "metadata": {}
        }
      ]
    }
  ]
}